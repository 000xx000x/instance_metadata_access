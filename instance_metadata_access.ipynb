{
  "cells": [
    {
      "cell_type": "code",
      "source": [
        "# Copyright (c) 2023 Darshan B. All rights reserved.\n",
        "\n",
        "import requests\n",
        "\n",
        "target_ip = 'type your Target ip here'\n",
        "\n",
        "#Try to access AWS metadata\n",
        "header = {'Metadata': 'true'}\n",
        "response = requests.get('http://' + target_ip + '/latest/meta-data/', headers=header)\n",
        "if response.status_code == 200:\n",
        "    print('Success! AWS Instance Metadata is available.')\n",
        "\n",
        "#Try to access GCP metadata\n",
        "header = {'Metadata-Flavor': 'Google'}\n",
        "response = requests.get('http://' + target_ip + '/computeMetadata/v1/', headers=header)\n",
        "if response.status_code == 200:\n",
        "    print('Success! GCP Instance Metadata is available.')\n",
        "\n",
        "#Try to access Azure metadata\n",
        "header = {'Metadata': 'true'}\n",
        "response = requests.get('http://' + target_ip + '/metadata/v1.0', headers=header)\n",
        "if response.status_code == 200:\n",
        "    print('Success! Azure Instance Metadata is available.')    "
      ],
      "metadata": {
        "id": "ZFpqLR989Z6u"
      },
      "execution_count": null,
      "outputs": []
    }
  ],
  "metadata": {
    "colab": {
      "name": "Welcome To Colaboratory",
      "toc_visible": true,
      "provenance": []
    },
    "kernelspec": {
      "display_name": "Python 3",
      "name": "python3"
    }
  },
  "nbformat": 4,
  "nbformat_minor": 0
}